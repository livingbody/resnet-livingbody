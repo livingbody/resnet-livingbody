{
 "cells": [
  {
   "cell_type": "markdown",
   "metadata": {
    "id": "FF3C75A331634B66803C7707DA8FAD7E",
    "jupyter": {},
    "mdEditEnable": false,
    "notebookId": "6116a675fe727700176cb615",
    "slideshow": {
     "slide_type": "slide"
    },
    "tags": []
   },
   "source": [
    "# PaddlePaddle与 pytorch比较\n",
    "\n",
    "## 1.环境安装"
   ]
  },
  {
   "cell_type": "code",
   "execution_count": 2,
   "metadata": {
    "hide_input": false,
    "id": "DC319565DB414133955E1B1C16B07512",
    "jupyter": {},
    "notebookId": "6116a675fe727700176cb615",
    "scrolled": false,
    "slideshow": {
     "slide_type": "slide"
    },
    "tags": []
   },
   "outputs": [
    {
     "name": "stdout",
     "output_type": "stream",
     "text": [
      "Looking in indexes: https://mirror.baidu.com/pypi/simple\n",
      "Collecting opencv-python\n",
      "  Using cached https://mirror.baidu.com/pypi/packages/01/9b/be08992293fb21faf35ab98e06924d7407fcfca89d89c5de65442631556a/opencv-python-4.5.3.56.tar.gz\n",
      "  Installing build dependencies ... \u001b[?25ldone\n",
      "\u001b[?25hRequirement already satisfied: numpy>=1.19.3 in /opt/conda/lib/python3.9/site-packages (from opencv-python) (1.20.3)\n",
      "Building wheels for collected packages: opencv-python\n",
      "  Running setup.py bdist_wheel for opencv-python ... \u001b[?25l|^C\n",
      "\u001b[?25canceled\n"
     ]
    }
   ],
   "source": [
    "# 第一次运行，后续注释\n",
    "# !pip install paddlepaddle -i https://mirror.baidu.com/pypi/simple\n",
    "# !pip install opencv-python -i https://mirror.baidu.com/pypi/simple"
   ]
  },
  {
   "cell_type": "markdown",
   "metadata": {
    "id": "7BD16980EC444CF4B8A0D2306D4D29A7",
    "jupyter": {},
    "mdEditEnable": false,
    "notebookId": "6116a675fe727700176cb615",
    "slideshow": {
     "slide_type": "slide"
    },
    "tags": []
   },
   "source": [
    "## 2.包引入"
   ]
  },
  {
   "cell_type": "code",
   "execution_count": 11,
   "metadata": {
    "id": "2669A341B11A44AD8D20C94323CF2740",
    "jupyter": {},
    "scrolled": false,
    "slideshow": {
     "slide_type": "slide"
    },
    "tags": []
   },
   "outputs": [],
   "source": [
    "import os\n",
    "import sys\n",
    "# import cv2\n",
    "\n",
    "import numpy as np\n",
    "import torch\n",
    "import torchvision\n",
    "import paddle\n",
    "import matplotlib.pyplot as plt\n",
    "import warnings\n",
    "warnings.filterwarnings(\"ignore\")\n",
    "# %matplotlib inline"
   ]
  },
  {
   "cell_type": "code",
   "execution_count": 12,
   "metadata": {
    "id": "BFF777120C214890A2AA2323C574E5F8",
    "jupyter": {},
    "scrolled": true,
    "slideshow": {
     "slide_type": "slide"
    },
    "tags": []
   },
   "outputs": [
    {
     "name": "stdout",
     "output_type": "stream",
     "text": [
      "2.1.2\n",
      "1.8.1\n"
     ]
    }
   ],
   "source": [
    "print(paddle.__version__)\n",
    "print(torch.__version__)"
   ]
  },
  {
   "cell_type": "markdown",
   "metadata": {
    "id": "86A85A541CA74F69A59D6B0404B125F4",
    "jupyter": {},
    "mdEditEnable": false,
    "notebookId": "6116a675fe727700176cb615",
    "slideshow": {
     "slide_type": "slide"
    },
    "tags": []
   },
   "source": [
    "## 3.卷积比较"
   ]
  },
  {
   "cell_type": "code",
   "execution_count": 15,
   "metadata": {
    "id": "62DA41DEE09442269839DDAB92164DFE",
    "jupyter": {},
    "scrolled": true,
    "slideshow": {
     "slide_type": "slide"
    },
    "tags": []
   },
   "outputs": [
    {
     "name": "stdout",
     "output_type": "stream",
     "text": [
      "Conv2D(3, 4, kernel_size=[1, 1], data_format=NCHW)\n",
      "Conv2D(3, 4, kernel_size=[1, 1], data_format=NCHW)\n"
     ]
    }
   ],
   "source": [
    "conv_paddle = paddle.nn.Conv2D(\n",
    "    in_channels=3,\n",
    "    out_channels=4,\n",
    "    kernel_size=1,\n",
    "    stride=1)\n",
    "conv_torch = paddle.nn.Conv2D(\n",
    "    in_channels=3,\n",
    "    out_channels=4,\n",
    "    kernel_size=1,\n",
    "    stride=1)\n",
    "print(conv_paddle)\n",
    "print(conv_torch)"
   ]
  },
  {
   "cell_type": "markdown",
   "metadata": {
    "id": "13F5F74F54EC4872886F75E8A8179D42",
    "jupyter": {},
    "mdEditEnable": false,
    "notebookId": "6116a675fe727700176cb615",
    "slideshow": {
     "slide_type": "slide"
    },
    "tags": []
   },
   "source": [
    "## 4.线性网络比较"
   ]
  },
  {
   "cell_type": "code",
   "execution_count": 16,
   "metadata": {
    "id": "048AF65E3F964BB48C913E5A43FE2E6C",
    "jupyter": {},
    "scrolled": false,
    "slideshow": {
     "slide_type": "slide"
    },
    "tags": []
   },
   "outputs": [
    {
     "name": "stdout",
     "output_type": "stream",
     "text": [
      "Linear(in_features=10, out_features=20, dtype=float32)\n",
      "Linear(in_features=10, out_features=20, bias=True)\n",
      "====linear_paddle info====\n",
      "weight [10, 20]\n",
      "bias [20]\n",
      "\n",
      "====linear_torch info====\n",
      "weight torch.Size([20, 10])\n",
      "bias torch.Size([20])\n"
     ]
    }
   ],
   "source": [
    "linear_paddle = paddle.nn.Linear(\n",
    "    in_features=10,\n",
    "    out_features=20)\n",
    "linear_torch = torch.nn.Linear(\n",
    "    in_features=10,\n",
    "    out_features=20)\n",
    "print(linear_paddle)\n",
    "print(linear_torch)\n",
    "paddlepaddle和pytorch的Linear输出顺序不一样\n",
    "print(\"====linear_paddle info====\")\n",
    "for name, weight in linear_paddle.named_parameters():\n",
    "    print(name, weight.shape)\n",
    "print(\"\\n====linear_torch info====\")\n",
    "for name, weight in linear_torch.named_parameters():\n",
    "    print(name, weight.shape)"
   ]
  },
  {
   "cell_type": "markdown",
   "metadata": {
    "id": "CC1E0A2F3301472BA4581074903111BB",
    "jupyter": {},
    "mdEditEnable": false,
    "notebookId": "6116a675fe727700176cb615",
    "slideshow": {
     "slide_type": "slide"
    },
    "tags": []
   },
   "source": [
    "## 5.cifar10数据下载"
   ]
  },
  {
   "cell_type": "code",
   "execution_count": 33,
   "metadata": {
    "id": "CAC23BF60CBB485D99CFA3220AF364FF",
    "jupyter": {},
    "scrolled": false,
    "slideshow": {
     "slide_type": "slide"
    },
    "tags": []
   },
   "outputs": [
    {
     "name": "stdout",
     "output_type": "stream",
     "text": [
      "<paddle.vision.datasets.cifar.Cifar10 object at 0x7fc36f9c0220>\n"
     ]
    }
   ],
   "source": [
    "# 下载到默认路径\n",
    "dataset_paddle = paddle.vision.datasets.Cifar10(\n",
    "    mode=\"train\",\n",
    "    download=True)\n",
    "# 下载到data目录\n",
    "print(dataset_paddle)"
   ]
  },
  {
   "cell_type": "code",
   "execution_count": 43,
   "metadata": {
    "id": "705FF4264119407A9A8FDEC200564B4C",
    "jupyter": {},
    "notebookId": "6116a675fe727700176cb615",
    "scrolled": false,
    "slideshow": {
     "slide_type": "slide"
    },
    "tags": []
   },
   "outputs": [
    {
     "name": "stdout",
     "output_type": "stream",
     "text": [
      "Dataset CIFAR10\n",
      "    Number of datapoints: 50000\n",
      "    Split: train\n",
      "    Root Location: /home/mw/input/CIFAR109603/\n",
      "    Transforms (if any): None\n",
      "    Target Transforms (if any): None\n"
     ]
    }
   ],
   "source": [
    "# 挂载数据集并解压\n",
    "!tar -xvf /home/mw/input/CIFAR109603/cifar-10-python.tar.gz -C /home/mw/input/CIFAR109603/\n",
    "# 指定cifar-10-batches-py上一级目录为root参数\n",
    "# /home/mw/input/CIFAR109603/cifar-10-batches-py\n",
    "dataset_torch = torchvision.datasets.CIFAR10(\n",
    "    root=\"/home/mw/input/CIFAR109603/\",\n",
    "    train=True,\n",
    "    download=False) # 不让下载True\n",
    "print(dataset_torch)"
   ]
  },
  {
   "cell_type": "code",
   "execution_count": 47,
   "metadata": {
    "id": "7C5A421589354B0FB1263F3073823F0D",
    "jupyter": {},
    "scrolled": true,
    "slideshow": {
     "slide_type": "slide"
    },
    "tags": []
   },
   "outputs": [
    {
     "name": "stdout",
     "output_type": "stream",
     "text": [
      "paddle length:  50000\n",
      "torch length:  50000\n"
     ]
    },
    {
     "data": {
      "text/html": [
       "<img src=\"https://cdn.kesci.com/upload/rt/7C5A421589354B0FB1263F3073823F0D/qxshoqp6ot.png\">"
      ],
      "text/plain": [
       "<Figure size 432x288 with 2 Axes>"
      ]
     },
     "metadata": {
      "needs_background": "light"
     },
     "output_type": "display_data"
    }
   ],
   "source": [
    "print(\"paddle length: \", len(dataset_paddle))\n",
    "print(\"torch length: \", len(dataset_torch))\n",
    "plt.subplot(121)\n",
    "plt.imshow(dataset_paddle[0][0])\n",
    "plt.subplot(122)\n",
    "plt.imshow(dataset_paddle[1][0])\n",
    "plt.show()"
   ]
  },
  {
   "cell_type": "markdown",
   "metadata": {
    "id": "4B64971A873245B589D4F35A2996510F",
    "jupyter": {},
    "mdEditEnable": false,
    "notebookId": "6116a675fe727700176cb615",
    "slideshow": {
     "slide_type": "slide"
    },
    "tags": []
   },
   "source": [
    "## 6.交叉熵比较"
   ]
  },
  {
   "cell_type": "code",
   "execution_count": 51,
   "metadata": {
    "id": "ABAFC94066114E408E50301DC99EEC47",
    "jupyter": {},
    "scrolled": false,
    "slideshow": {
     "slide_type": "slide"
    },
    "tags": []
   },
   "outputs": [
    {
     "name": "stdout",
     "output_type": "stream",
     "text": [
      "x.shape: (32, 10)\n",
      "label.shape: (32,)\n",
      "Tensor(shape=[1], dtype=float32, place=CPUPlace, stop_gradient=True,\n",
      "       [2.43480349])\n",
      "tensor(2.4348)\n"
     ]
    }
   ],
   "source": [
    "x = np.random.rand(32, 10).astype(np.float32)\n",
    "label = np.random.randint(0, 10, [32, ], dtype=np.int64)\n",
    "print('x.shape: {}'.format(x.shape))\n",
    "print('label.shape: {}'.format(label.shape))\n",
    "\n",
    "ce_loss_paddle = paddle.nn.CrossEntropyLoss()\n",
    "ce_loss_torch = torch.nn.CrossEntropyLoss()\n",
    "\n",
    "loss_paddle = ce_loss_paddle(\n",
    "    paddle.to_tensor(x),\n",
    "    paddle.to_tensor(label))\n",
    "loss_torch = ce_loss_torch(\n",
    "    torch.from_numpy(x),\n",
    "    torch.from_numpy(label))\n",
    "\n",
    "print(loss_paddle)\n",
    "print(loss_torch)"
   ]
  },
  {
   "cell_type": "markdown",
   "metadata": {
    "id": "7BD98A7CFEF04B6FBCAE5C9A08ABAB8A",
    "jupyter": {},
    "mdEditEnable": false,
    "notebookId": "6116a675fe727700176cb615",
    "slideshow": {
     "slide_type": "slide"
    },
    "tags": []
   },
   "source": [
    "## 7.topk比较"
   ]
  },
  {
   "cell_type": "code",
   "execution_count": 53,
   "metadata": {
    "id": "84BAA30748684C4FBD9AEB5875117041",
    "jupyter": {},
    "scrolled": true,
    "slideshow": {
     "slide_type": "slide"
    },
    "tags": []
   },
   "outputs": [
    {
     "name": "stdout",
     "output_type": "stream",
     "text": [
      "====x  label  shape=====\n",
      "x.shape: (4, 10)\n",
      "label.shape: (4,)\n",
      "====class ids diff=====\n",
      "[[0], [0], [9], [1]]\n",
      "[[0], [0], [9], [1]]\n",
      "\n",
      "====socres diff=====\n",
      "[[0.882580041885376], [0.8896079063415527], [0.968862771987915], [0.91152423620224]]\n",
      "[[0.882580041885376], [0.8896079063415527], [0.968862771987915], [0.91152423620224]]\n"
     ]
    }
   ],
   "source": [
    "x = np.random.rand(4, 10).astype(np.float32)\n",
    "label = np.random.randint(0, 10, [4, ], dtype=np.int64)\n",
    "print(\"====x  label  shape=====\")\n",
    "print('x.shape: {}'.format(x.shape))\n",
    "print('label.shape: {}'.format(label.shape))\n",
    "\n",
    "score_paddle, cls_id_paddle  = paddle.topk(paddle.to_tensor(x), k=1)\n",
    "score_torch, cls_id_torch = torch.topk(torch.from_numpy(x), k=1)\n",
    "print(\"====class ids diff=====\")\n",
    "print(cls_id_paddle.numpy().tolist())\n",
    "print(cls_id_torch.numpy().tolist())\n",
    "print(\"\\n====socres diff=====\")\n",
    "print(score_paddle.numpy().tolist())\n",
    "print(score_torch.numpy().tolist())"
   ]
  },
  {
   "cell_type": "markdown",
   "metadata": {
    "id": "8B69BD313FF647AE82A670D4287C8BAC",
    "jupyter": {},
    "mdEditEnable": false,
    "notebookId": "6116a675fe727700176cb615",
    "scrolled": false,
    "slideshow": {
     "slide_type": "slide"
    },
    "tags": []
   },
   "source": [
    "## 8.学习率比较"
   ]
  },
  {
   "cell_type": "code",
   "execution_count": 54,
   "metadata": {
    "id": "F6DBEE39E6D645F18495F67DD9ED5CB9",
    "jupyter": {},
    "scrolled": true,
    "slideshow": {
     "slide_type": "slide"
    },
    "tags": []
   },
   "outputs": [
    {
     "name": "stdout",
     "output_type": "stream",
     "text": [
      "step 1, paddle lr: 0.010000, torch lr: 0.001000\n",
      "step 2, paddle lr: 0.001000, torch lr: 0.000100\n",
      "step 3, paddle lr: 0.000100, torch lr: 0.000010\n"
     ]
    }
   ],
   "source": [
    "linear_paddle = paddle.nn.Linear(10, 10)\n",
    "lr_sch_paddle = paddle.optimizer.lr.StepDecay(\n",
    "    0.1,\n",
    "    step_size=1,\n",
    "    gamma=0.1)\n",
    "opt_paddle = paddle.optimizer.Momentum(\n",
    "    learning_rate=lr_sch_paddle,\n",
    "    parameters=linear_paddle.parameters(),\n",
    "    weight_decay=0.01)\n",
    "\n",
    "linear_torch = torch.nn.Linear(10, 10)\n",
    "opt_torch = torch.optim.SGD(\n",
    "    linear_torch.parameters(),\n",
    "    lr=0.1,\n",
    "    momentum=0.9,\n",
    "    weight_decay=0.1)\n",
    "lr_sch_torch = torch.optim.lr_scheduler.StepLR(\n",
    "    opt_torch,\n",
    "    step_size=1, gamma=0.1)\n",
    "\n",
    "for idx in range(1, 4):\n",
    "    lr_sch_paddle.step()\n",
    "    lr_sch_torch.step()\n",
    "    print(\"step {}, paddle lr: {:.6f}, torch lr: {:.6f}\".format(\n",
    "        idx,\n",
    "        lr_sch_paddle.get_lr(),\n",
    "        lr_sch_torch.get_lr()[0]))"
   ]
  },
  {
   "cell_type": "markdown",
   "metadata": {
    "id": "A230BDD74BA940DF8CA9A221CEA0EEAD",
    "jupyter": {},
    "mdEditEnable": false,
    "notebookId": "6116a675fe727700176cb615",
    "slideshow": {
     "slide_type": "slide"
    },
    "tags": []
   },
   "source": [
    "## 9.模型定义"
   ]
  },
  {
   "cell_type": "code",
   "execution_count": 56,
   "metadata": {
    "id": "025E956E99F54FC68D19246F0B7B6559",
    "jupyter": {},
    "scrolled": false,
    "slideshow": {
     "slide_type": "slide"
    },
    "tags": []
   },
   "outputs": [
    {
     "name": "stdout",
     "output_type": "stream",
     "text": [
      "PaddleModel(\n",
      "  (conv): Conv2D(3, 12, kernel_size=[3, 3], padding=1, dilation=[0, 0], data_format=NCHW)\n",
      "  (bn): BatchNorm2D(num_features=12, momentum=0.9, epsilon=1e-05)\n",
      "  (relu): ReLU()\n",
      "  (maxpool): MaxPool2D(kernel_size=3, stride=2, padding=1)\n",
      ")\n",
      "TorchModel(\n",
      "  (conv): Conv2d(3, 12, kernel_size=(3, 3), stride=(1, 1), padding=(1, 1))\n",
      "  (bn): BatchNorm2d(12, eps=1e-05, momentum=0.1, affine=True, track_running_stats=True)\n",
      "  (relu): ReLU()\n",
      "  (maxpool): MaxPool2d(kernel_size=3, stride=2, padding=1, dilation=1, ceil_mode=False)\n",
      ")\n"
     ]
    }
   ],
   "source": [
    "class PaddleModel(paddle.nn.Layer):\n",
    "    def __init__(self):\n",
    "        super().__init__()\n",
    "        self.conv = paddle.nn.Conv2D(\n",
    "            in_channels=3,\n",
    "            out_channels=12,\n",
    "            kernel_size=3,\n",
    "            padding=1,\n",
    "            dilation=0)\n",
    "        self.bn = paddle.nn.BatchNorm2D(12)\n",
    "        self.relu = paddle.nn.ReLU()\n",
    "        self.maxpool = paddle.nn.MaxPool2D(\n",
    "            kernel_size=3,\n",
    "            stride=2,\n",
    "            padding=1)\n",
    "\n",
    "    def forward(self, x):\n",
    "        x = self.conv(x)\n",
    "        x = self.bn(x)\n",
    "        x = self.relu(x)\n",
    "        x = self.maxpool(x)\n",
    "        return x\n",
    "\n",
    "\n",
    "class TorchModel(torch.nn.Module):\n",
    "    def __init__(self):\n",
    "        super().__init__()\n",
    "        self.conv = torch.nn.Conv2d(\n",
    "            in_channels=3,\n",
    "            out_channels=12,\n",
    "            kernel_size=3,\n",
    "            padding=1)\n",
    "        self.bn = torch.nn.BatchNorm2d(12)\n",
    "        self.relu = torch.nn.ReLU()\n",
    "        self.maxpool = torch.nn.MaxPool2d(\n",
    "            kernel_size=3,\n",
    "            stride=2,\n",
    "            padding=1)\n",
    "\n",
    "    def forward(self, x):\n",
    "        x = self.conv_layer(x)\n",
    "        x = self.bn_layer(x)\n",
    "        x = self.relu(x)\n",
    "        x = self.maxpool(x)\n",
    "        return x\n",
    "\n",
    "paddle_model = PaddleModel()\n",
    "torch_model = TorchModel()\n",
    "print(paddle_model)\n",
    "print(torch_model)"
   ]
  },
  {
   "cell_type": "code",
   "execution_count": 57,
   "metadata": {
    "id": "C17AE11EB56C4670A7ACF692C005C9CA",
    "jupyter": {},
    "scrolled": false,
    "slideshow": {
     "slide_type": "slide"
    },
    "tags": []
   },
   "outputs": [
    {
     "name": "stdout",
     "output_type": "stream",
     "text": [
      "====paddle names====\n",
      "['conv.weight', 'conv.bias', 'bn.weight', 'bn.bias', 'bn._mean', 'bn._variance']\n",
      "\n",
      "====torch names====\n",
      "['conv.weight', 'conv.bias', 'bn.weight', 'bn.bias', 'bn.running_mean', 'bn.running_var', 'bn.num_batches_tracked']\n"
     ]
    }
   ],
   "source": [
    "print(\"====paddle names====\")\n",
    "print(list(paddle_model.state_dict().keys()))\n",
    "print(\"\\n====torch names====\")\n",
    "print(list(torch_model.state_dict().keys()))"
   ]
  },
  {
   "cell_type": "code",
   "execution_count": 58,
   "metadata": {
    "id": "BC82643C84DC4D1380B6F7C58670ECC4",
    "jupyter": {},
    "scrolled": false,
    "slideshow": {
     "slide_type": "slide"
    },
    "tags": []
   },
   "outputs": [
    {
     "name": "stdout",
     "output_type": "stream",
     "text": [
      "Tensor(shape=[6], dtype=float32, place=CPUPlace, stop_gradient=True,\n",
      "       [1.        , 2.        , 3.        , 3.        , 3.        , 3.50000000])\n"
     ]
    }
   ],
   "source": [
    "def clip_funny(x, minv, maxv):\n",
    "    midv = (minv + maxv) / 2.0\n",
    "    cond1 = paddle.logical_and(x > minv, x < midv)\n",
    "    cond2 = paddle.logical_and(x >= midv, x < maxv)\n",
    "    \n",
    "    y = paddle.where(cond1, paddle.ones_like(x) * minv, x)\n",
    "    y = paddle.where(cond2, paddle.ones_like(x) * maxv, y)\n",
    "    return y\n",
    "\n",
    "x = paddle.to_tensor([1, 2, 2.5, 2.6, 3, 3.5])\n",
    "y = clip_funny(x, 2, 3)\n",
    "print(y)"
   ]
  },
  {
   "cell_type": "code",
   "execution_count": null,
   "metadata": {
    "id": "11FA8798CE044936A31505E2F35C3B86",
    "jupyter": {},
    "notebookId": "6116a675fe727700176cb615",
    "slideshow": {
     "slide_type": "slide"
    },
    "tags": []
   },
   "outputs": [],
   "source": []
  }
 ],
 "metadata": {
  "kernelspec": {
   "display_name": "Python 3 (ipykernel)",
   "language": "python",
   "name": "python3"
  },
  "language_info": {
   "codemirror_mode": {
    "name": "ipython",
    "version": 3
   },
   "file_extension": ".py",
   "mimetype": "text/x-python",
   "name": "python",
   "nbconvert_exporter": "python",
   "pygments_lexer": "ipython3",
   "version": "3.7.7"
  }
 },
 "nbformat": 4,
 "nbformat_minor": 4
}
