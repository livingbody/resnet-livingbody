{
 "cells": [
  {
   "cell_type": "code",
   "execution_count": 1,
   "metadata": {},
   "outputs": [
    {
     "name": "stderr",
     "output_type": "stream",
     "text": [
      "grep: warning: GREP_OPTIONS is deprecated; please use an alias or script\n"
     ]
    }
   ],
   "source": [
    "import os\n",
    "import sys\n",
    "import cv2\n",
    "import numpy as np\n",
    "import torch\n",
    "import torchvision\n",
    "import paddle\n",
    "import matplotlib.pyplot as plt\n",
    "%matplotlib inline"
   ]
  },
  {
   "cell_type": "code",
   "execution_count": 2,
   "metadata": {},
   "outputs": [
    {
     "name": "stdout",
     "output_type": "stream",
     "text": [
      "2.1.2\n",
      "1.9.0\n"
     ]
    }
   ],
   "source": [
    "print(paddle.__version__)\n",
    "print(torch.__version__)"
   ]
  },
  {
   "cell_type": "code",
   "execution_count": 4,
   "metadata": {},
   "outputs": [
    {
     "name": "stdout",
     "output_type": "stream",
     "text": [
      "Conv2D(3, 4, kernel_size=[1, 1], data_format=NCHW)\n",
      "Conv2D(3, 4, kernel_size=[1, 1], data_format=NCHW)\n"
     ]
    }
   ],
   "source": [
    "conv_paddle = paddle.nn.Conv2D(\n",
    "    in_channels=3,\n",
    "    out_channels=4,\n",
    "    kernel_size=1,\n",
    "    stride=1)\n",
    "conv_torch = paddle.nn.Conv2D(\n",
    "    in_channels=3,\n",
    "    out_channels=4,\n",
    "    kernel_size=1,\n",
    "    stride=1)\n",
    "print(conv_paddle)\n",
    "print(conv_torch)"
   ]
  },
  {
   "cell_type": "code",
   "execution_count": 9,
   "metadata": {},
   "outputs": [
    {
     "name": "stdout",
     "output_type": "stream",
     "text": [
      "Linear(in_features=10, out_features=20, dtype=float32)\n",
      "Linear(in_features=10, out_features=20, bias=True)\n",
      "====linear_paddle info====\n",
      "weight [10, 20]\n",
      "bias [20]\n",
      "\n",
      "====linear_torch info====\n",
      "weight torch.Size([20, 10])\n",
      "bias torch.Size([20])\n"
     ]
    }
   ],
   "source": [
    "linear_paddle = paddle.nn.Linear(\n",
    "    in_features=10,\n",
    "    out_features=20)\n",
    "linear_torch = torch.nn.Linear(\n",
    "    in_features=10,\n",
    "    out_features=20)\n",
    "print(linear_paddle)\n",
    "print(linear_torch)\n",
    "print(\"====linear_paddle info====\")\n",
    "for name, weight in linear_paddle.named_parameters():\n",
    "    print(name, weight.shape)\n",
    "print(\"\\n====linear_torch info====\")\n",
    "for name, weight in linear_torch.named_parameters():\n",
    "    print(name, weight.shape)"
   ]
  },
  {
   "cell_type": "code",
   "execution_count": 25,
   "metadata": {},
   "outputs": [
    {
     "name": "stdout",
     "output_type": "stream",
     "text": [
      "Files already downloaded and verified\n",
      "<paddle.vision.datasets.cifar.Cifar10 object at 0x7fc77dac2090>\n",
      "Dataset CIFAR10\n",
      "    Number of datapoints: 50000\n",
      "    Root location: ./data\n",
      "    Split: Train\n"
     ]
    }
   ],
   "source": [
    "# 下载到默认路径\n",
    "dataset_paddle = paddle.vision.datasets.Cifar10(\n",
    "    mode=\"train\",\n",
    "    download=True)\n",
    "# 下载到data目录\n",
    "dataset_torch = torchvision.datasets.CIFAR10(\n",
    "    root=\"./data\",\n",
    "    train=True,\n",
    "    download=True)\n",
    "print(dataset_paddle)\n",
    "print(dataset_torch)"
   ]
  },
  {
   "cell_type": "code",
   "execution_count": 29,
   "metadata": {},
   "outputs": [
    {
     "name": "stdout",
     "output_type": "stream",
     "text": [
      "paddle length:  50000\n",
      "torch length:  50000\n"
     ]
    },
    {
     "data": {
      "image/png": "[encoded data removed]",
      "text/plain": [
       "<Figure size 432x288 with 2 Axes>"
      ]
     },
     "metadata": {
      "needs_background": "light"
     },
     "output_type": "display_data"
    }
   ],
   "source": [
    "print(\"paddle length: \", len(dataset_paddle))\n",
    "print(\"torch length: \", len(dataset_torch))\n",
    "plt.subplot(121)\n",
    "plt.imshow(dataset_paddle[0][0])\n",
    "plt.subplot(122)\n",
    "plt.imshow(dataset_paddle[1][0])\n",
    "plt.show()"
   ]
  },
  {
   "cell_type": "code",
   "execution_count": 40,
   "metadata": {},
   "outputs": [
    {
     "name": "stdout",
     "output_type": "stream",
     "text": [
      "Tensor(shape=[1], dtype=float32, place=CPUPlace, stop_gradient=True,\n",
      "       [2.27016926])\n",
      "tensor(2.2702)\n"
     ]
    }
   ],
   "source": [
    "x = np.random.rand(32, 10).astype(np.float32)\n",
    "label = np.random.randint(0, 10, [32, ], dtype=np.int64)\n",
    "\n",
    "ce_loss_paddle = paddle.nn.CrossEntropyLoss()\n",
    "ce_loss_torch = torch.nn.CrossEntropyLoss()\n",
    "\n",
    "loss_paddle = ce_loss_paddle(\n",
    "    paddle.to_tensor(x),\n",
    "    paddle.to_tensor(label))\n",
    "loss_torch = ce_loss_torch(\n",
    "    torch.from_numpy(x),\n",
    "    torch.from_numpy(label))\n",
    "\n",
    "print(loss_paddle)\n",
    "print(loss_torch)"
   ]
  },
  {
   "cell_type": "code",
   "execution_count": 4,
   "metadata": {},
   "outputs": [
    {
     "name": "stdout",
     "output_type": "stream",
     "text": [
      "====class ids diff=====\n",
      "[[9], [7], [0], [8]]\n",
      "[[9], [7], [0], [8]]\n",
      "\n",
      "====socres diff=====\n",
      "[[0.9987384080886841], [0.9276436567306519], [0.972288191318512], [0.897953987121582]]\n",
      "[[0.9987384080886841], [0.9276436567306519], [0.972288191318512], [0.897953987121582]]\n"
     ]
    }
   ],
   "source": [
    "x = np.random.rand(4, 10).astype(np.float32)\n",
    "label = np.random.randint(0, 10, [4, ], dtype=np.int64)\n",
    "\n",
    "score_paddle, cls_id_paddle  = paddle.topk(paddle.to_tensor(x), k=1)\n",
    "score_torch, cls_id_torch = torch.topk(torch.from_numpy(x), k=1)\n",
    "print(\"====class ids diff=====\")\n",
    "print(cls_id_paddle.numpy().tolist())\n",
    "print(cls_id_torch.numpy().tolist())\n",
    "print(\"\\n====socres diff=====\")\n",
    "print(score_paddle.numpy().tolist())\n",
    "print(score_torch.numpy().tolist())"
   ]
  },
  {
   "cell_type": "code",
   "execution_count": 36,
   "metadata": {},
   "outputs": [
    {
     "name": "stdout",
     "output_type": "stream",
     "text": [
      "step 1, paddle lr: 0.010000, torch lr: 0.001000\n",
      "step 2, paddle lr: 0.001000, torch lr: 0.000100\n",
      "step 3, paddle lr: 0.000100, torch lr: 0.000010\n"
     ]
    }
   ],
   "source": [
    "linear_paddle = paddle.nn.Linear(10, 10)\n",
    "lr_sch_paddle = paddle.optimizer.lr.StepDecay(\n",
    "    0.1,\n",
    "    step_size=1,\n",
    "    gamma=0.1)\n",
    "opt_paddle = paddle.optimizer.Momentum(\n",
    "    learning_rate=lr_sch_paddle,\n",
    "    parameters=linear_paddle.parameters(),\n",
    "    weight_decay=0.01)\n",
    "\n",
    "linear_torch = torch.nn.Linear(10, 10)\n",
    "opt_torch = torch.optim.SGD(\n",
    "    linear_torch.parameters(),\n",
    "    lr=0.1,\n",
    "    momentum=0.9,\n",
    "    weight_decay=0.1)\n",
    "lr_sch_torch = torch.optim.lr_scheduler.StepLR(\n",
    "    opt_torch,\n",
    "    step_size=1, gamma=0.1)\n",
    "\n",
    "for idx in range(1, 4):\n",
    "    lr_sch_paddle.step()\n",
    "    lr_sch_torch.step()\n",
    "    print(\"step {}, paddle lr: {:.6f}, torch lr: {:.6f}\".format(\n",
    "        idx,\n",
    "        lr_sch_paddle.get_lr(),\n",
    "        lr_sch_torch.get_lr()[0]))"
   ]
  },
  {
   "cell_type": "code",
   "execution_count": 37,
   "metadata": {},
   "outputs": [
    {
     "name": "stdout",
     "output_type": "stream",
     "text": [
      "PaddleModel(\n",
      "  (conv): Conv2D(3, 12, kernel_size=[3, 3], padding=1, dilation=[0, 0], data_format=NCHW)\n",
      "  (bn): BatchNorm2D(num_features=12, momentum=0.9, epsilon=1e-05)\n",
      "  (relu): ReLU()\n",
      "  (maxpool): MaxPool2D(kernel_size=3, stride=2, padding=1)\n",
      ")\n",
      "TorchModel(\n",
      "  (conv): Conv2d(3, 12, kernel_size=(3, 3), stride=(1, 1), padding=(1, 1))\n",
      "  (bn): BatchNorm2d(12, eps=1e-05, momentum=0.1, affine=True, track_running_stats=True)\n",
      "  (relu): ReLU()\n",
      "  (maxpool): MaxPool2d(kernel_size=3, stride=2, padding=1, dilation=1, ceil_mode=False)\n",
      ")\n"
     ]
    }
   ],
   "source": [
    "class PaddleModel(paddle.nn.Layer):\n",
    "    def __init__(self):\n",
    "        super().__init__()\n",
    "        self.conv = paddle.nn.Conv2D(\n",
    "            in_channels=3,\n",
    "            out_channels=12,\n",
    "            kernel_size=3,\n",
    "            padding=1,\n",
    "            dilation=0)\n",
    "        self.bn = paddle.nn.BatchNorm2D(12)\n",
    "        self.relu = paddle.nn.ReLU()\n",
    "        self.maxpool = paddle.nn.MaxPool2D(\n",
    "            kernel_size=3,\n",
    "            stride=2,\n",
    "            padding=1)\n",
    "\n",
    "    def forward(self, x):\n",
    "        x = self.conv(x)\n",
    "        x = self.bn(x)\n",
    "        x = self.relu(x)\n",
    "        x = self.maxpool(x)\n",
    "        return x\n",
    "\n",
    "\n",
    "class TorchModel(torch.nn.Module):\n",
    "    def __init__(self):\n",
    "        super().__init__()\n",
    "        self.conv = torch.nn.Conv2d(\n",
    "            in_channels=3,\n",
    "            out_channels=12,\n",
    "            kernel_size=3,\n",
    "            padding=1)\n",
    "        self.bn = torch.nn.BatchNorm2d(12)\n",
    "        self.relu = torch.nn.ReLU()\n",
    "        self.maxpool = torch.nn.MaxPool2d(\n",
    "            kernel_size=3,\n",
    "            stride=2,\n",
    "            padding=1)\n",
    "\n",
    "    def forward(self, x):\n",
    "        x = self.conv_layer(x)\n",
    "        x = self.bn_layer(x)\n",
    "        x = self.relu(x)\n",
    "        x = self.maxpool(x)\n",
    "        return x\n",
    "\n",
    "paddle_model = PaddleModel()\n",
    "torch_model = TorchModel()\n",
    "print(paddle_model)\n",
    "print(torch_model)"
   ]
  },
  {
   "cell_type": "code",
   "execution_count": 38,
   "metadata": {},
   "outputs": [
    {
     "name": "stdout",
     "output_type": "stream",
     "text": [
      "====paddle names====\n",
      "['conv.weight', 'conv.bias', 'bn.weight', 'bn.bias', 'bn._mean', 'bn._variance']\n",
      "\n",
      "====torch names====\n",
      "['conv.weight', 'conv.bias', 'bn.weight', 'bn.bias', 'bn.running_mean', 'bn.running_var', 'bn.num_batches_tracked']\n"
     ]
    }
   ],
   "source": [
    "print(\"====paddle names====\")\n",
    "print(list(paddle_model.state_dict().keys()))\n",
    "print(\"\\n====torch names====\")\n",
    "print(list(torch_model.state_dict().keys()))"
   ]
  },
  {
   "cell_type": "code",
   "execution_count": 4,
   "metadata": {},
   "outputs": [
    {
     "name": "stdout",
     "output_type": "stream",
     "text": [
      "Tensor(shape=[6], dtype=float32, place=CUDAPlace(0), stop_gradient=True,\n",
      "       [1.        , 2.        , 3.        , 3.        , 3.        , 3.50000000])\n"
     ]
    }
   ],
   "source": [
    "def clip_funny(x, minv, maxv):\n",
    "    midv = (minv + maxv) / 2.0\n",
    "    cond1 = paddle.logical_and(x > minv, x < midv)\n",
    "    cond2 = paddle.logical_and(x >= midv, x < maxv)\n",
    "    \n",
    "    y = paddle.where(cond1, paddle.ones_like(x) * minv, x)\n",
    "    y = paddle.where(cond2, paddle.ones_like(x) * maxv, y)\n",
    "    return y\n",
    "\n",
    "x = paddle.to_tensor([1, 2, 2.5, 2.6, 3, 3.5])\n",
    "y = clip_funny(x, 2, 3)\n",
    "print(y)"
   ]
  }
 ],
 "metadata": {
  "kernelspec": {
   "display_name": "Python 3 (ipykernel)",
   "language": "python",
   "name": "python3"
  },
  "language_info": {
   "codemirror_mode": {
    "name": "ipython",
    "version": 3
   },
   "file_extension": ".py",
   "mimetype": "text/x-python",
   "name": "python",
   "nbconvert_exporter": "python",
   "pygments_lexer": "ipython3",
   "version": "3.7.0"
  }
 },
 "nbformat": 4,
 "nbformat_minor": 4
}
